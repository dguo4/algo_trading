{
  "nbformat": 4,
  "nbformat_minor": 0,
  "metadata": {
    "kernelspec": {
      "display_name": "Python 3",
      "language": "python",
      "name": "python3"
    },
    "language_info": {
      "codemirror_mode": {
        "name": "ipython",
        "version": 3
      },
      "file_extension": ".py",
      "mimetype": "text/x-python",
      "name": "python",
      "nbconvert_exporter": "python",
      "pygments_lexer": "ipython3",
      "version": "3.8.2"
    },
    "colab": {
      "name": "001_equal_weight_S&P_500.ipynb",
      "provenance": [],
      "include_colab_link": true
    }
  },
  "cells": [
    {
      "cell_type": "markdown",
      "metadata": {
        "id": "view-in-github",
        "colab_type": "text"
      },
      "source": [
        "<a href=\"https://colab.research.google.com/github/dguo4/algo_trading/blob/master/starter_files/001_equal_weight_S%26P_500.ipynb\" target=\"_parent\"><img src=\"https://colab.research.google.com/assets/colab-badge.svg\" alt=\"Open In Colab\"/></a>"
      ]
    },
    {
      "cell_type": "markdown",
      "metadata": {
        "id": "szV9xW8_CiMF"
      },
      "source": [
        "# Equal-Weight S&P 500 Index Fund\n",
        "\n",
        "## Introduction & Library Imports\n",
        "\n",
        "The S&P 500 is the world's most popular stock market index. The largest fund that is benchmarked to this index is the SPDR® S&P 500® ETF Trust. It has more than US$250 billion of assets under management.\n",
        "\n",
        "The goal of this section of the course is to create a Python script that will accept the value of your portfolio and tell you how many shares of each S&P 500 constituent you should purchase to get an equal-weight version of the index fund.\n",
        "\n",
        "## Library Imports\n",
        "\n",
        "The first thing we need to do is import the open-source software libraries that we'll be using in this tutorial."
      ]
    },
    {
      "cell_type": "code",
      "metadata": {
        "id": "sX5OekLgCiMK"
      },
      "source": [
        "import numpy as np\r\n",
        "import pandas as pd\r\n",
        "import requests # API call \r\n",
        "import math\r\n",
        "import time"
      ],
      "execution_count": 47,
      "outputs": []
    },
    {
      "cell_type": "code",
      "metadata": {
        "id": "RwBi27aFGHNc",
        "colab": {
          "base_uri": "https://localhost:8080/",
          "height": 0
        },
        "outputId": "814f7ffb-345f-4ef1-b4ec-9932b030deee"
      },
      "source": [
        "!pip install xlsxwriter\r\n",
        "\r\n",
        "import xlsxwriter"
      ],
      "execution_count": 12,
      "outputs": [
        {
          "output_type": "stream",
          "text": [
            "Requirement already satisfied: xlsxwriter in /usr/local/lib/python3.6/dist-packages (1.3.7)\n"
          ],
          "name": "stdout"
        }
      ]
    },
    {
      "cell_type": "markdown",
      "metadata": {
        "id": "UyE2cpfnCiML"
      },
      "source": [
        "## Importing Our List of Stocks\n",
        "\n",
        "The next thing we need to do is import the constituents of the S&P 500.\n",
        "\n",
        "These constituents change over time, so in an ideal world you would connect directly to the index provider (Standard & Poor's) and pull their real-time constituents on a regular basis.\n",
        "\n",
        "Paying for access to the index provider's API is outside of the scope of this course. \n",
        "\n",
        "There's a static version of the S&P 500 constituents available here. [Click this link to download them now](https://drive.google.com/file/d/1ZJSpbY69DVckVZlO9cC6KkgfSufybcHN/view?usp=sharing). Move this file into the `starter-files` folder so it can be accessed by other files in that directory.\n",
        "\n",
        "Now it's time to import these stocks to our Jupyter Notebook file."
      ]
    },
    {
      "cell_type": "code",
      "metadata": {
        "id": "WHuHwqXeCiMM"
      },
      "source": [
        "# read ticker \r\n",
        "stocks = pd.read_csv('sp_500_stocks.csv')\r\n",
        "# stocks"
      ],
      "execution_count": 13,
      "outputs": []
    },
    {
      "cell_type": "markdown",
      "metadata": {
        "id": "mR5D-SnkCiMM"
      },
      "source": [
        "## Acquiring an API Token\n",
        "\n",
        "Now it's time to import our IEX Cloud API token. This is the data provider that we will be using throughout this course.\n",
        "\n",
        "API tokens (and other sensitive information) should be stored in a `secrets.py` file that doesn't get pushed to your local Git repository. We'll be using a sandbox API token in this course, which means that the data we'll use is randomly-generated and (more importantly) has no cost associated with it.\n",
        "\n",
        "[Click here](http://nickmccullum.com/algorithmic-trading-python/secrets.py) to download your `secrets.py` file. Move the file into the same directory as this Jupyter Notebook before proceeding."
      ]
    },
    {
      "cell_type": "code",
      "metadata": {
        "id": "uom7K_EOCiMM"
      },
      "source": [
        "# the import function doesn't work on my pc\r\n",
        "# from secrets import IEX_CLOUD_API_TOKEN \r\n",
        "IEX_CLOUD_API_TOKEN = 'Tsk_c9ff8a39b60f46c8bd4e37d442d987ed'"
      ],
      "execution_count": 21,
      "outputs": []
    },
    {
      "cell_type": "markdown",
      "metadata": {
        "id": "AsLGN6AHCiMN"
      },
      "source": [
        "## Making Our First API Call\n",
        "\n",
        "Now it's time to structure our API calls to IEX cloud. \n",
        "\n",
        "We need the following information from the API:\n",
        "\n",
        "* Market capitalization for each stock\n",
        "* Price of each stock\n",
        "\n"
      ]
    },
    {
      "cell_type": "code",
      "metadata": {
        "id": "fKtl6pN0CiMN",
        "outputId": "4364735c-371f-4b10-94dd-4547b600a1cc",
        "colab": {
          "base_uri": "https://localhost:8080/"
        }
      },
      "source": [
        "symbol = 'AAPL'\r\n",
        "api_url = f'https://sandbox.iexapis.com/stable/stock/{symbol}/quote/?token={IEX_CLOUD_API_TOKEN}' #f string\r\n",
        "data = requests.get(api_url).json()\r\n",
        "# print(data.status_code)\r\n",
        "print(data)"
      ],
      "execution_count": 29,
      "outputs": [
        {
          "output_type": "stream",
          "text": [
            "{'symbol': 'AAPL', 'companyName': 'Apple Inc', 'primaryExchange': 'SNCSGOTKNEA)LE( B LLATERAMGS QDA/', 'calculationPrice': 'close', 'open': 131.53, 'openTime': 1660030700464, 'openSource': 'liffioca', 'close': 131.2, 'closeTime': 1622247013154, 'closeSource': 'lfiafcoi', 'high': 133.19, 'highTime': 1666927848895, 'highSource': 'crdemad uetn1pee 5l iyi', 'low': 131.04, 'lowTime': 1610863566522, 'lowSource': 'i  pear XlreeictIEm', 'latestPrice': 128.1, 'latestSource': 'Close', 'latestTime': 'January 6, 2021', 'latestUpdate': 1614846766703, 'latestVolume': 159635095, 'iexRealtimePrice': 128.36, 'iexRealtimeSize': 102, 'iexLastUpdated': 1664079890474, 'delayedPrice': 129.59, 'delayedPriceTime': 1663603216255, 'oddLotDelayedPrice': 127.5, 'oddLotDelayedPriceTime': 1624932653625, 'extendedPrice': 132.5, 'extendedChange': 1.1, 'extendedChangePercent': 0.00896, 'extendedPriceTime': 1641550618414, 'previousClose': 135.82, 'previousVolume': 100856730, 'change': -4.63, 'changePercent': -0.035, 'volume': 160454455, 'iexMarketPercent': 0.01421424604010386, 'iexVolume': 2207466, 'avgTotalVolume': 120213100, 'iexBidPrice': 0, 'iexBidSize': 0, 'iexAskPrice': 0, 'iexAskSize': 0, 'iexOpen': 131.62, 'iexOpenTime': 1670719409916, 'iexClose': 129.6, 'iexCloseTime': 1675571998354, 'marketCap': 2150568535300, 'peRatio': 39.1, 'week52High': 139.55, 'week52Low': 56.74, 'ytdChange': -0.081623692547467, 'lastTradeTime': 1643697544990, 'isUSMarketOpen': False}\n"
          ],
          "name": "stdout"
        }
      ]
    },
    {
      "cell_type": "markdown",
      "metadata": {
        "id": "i1DiQVglCiMN"
      },
      "source": [
        "## Parsing Our API Call\n",
        "\n",
        "The API call that we executed in the last code block contains all of the information required to build our equal-weight S&P 500 strategy. \n",
        "\n",
        "With that said, the data isn't in a proper format yet. We need to parse it first."
      ]
    },
    {
      "cell_type": "code",
      "metadata": {
        "id": "mrijUzotCiMN",
        "outputId": "d1c401d8-e818-456d-ff85-80ca2af7f97b",
        "colab": {
          "base_uri": "https://localhost:8080/"
        }
      },
      "source": [
        "price = data['latestPrice']\r\n",
        "market_cap = data['marketCap']\r\n",
        "market_cap/1e12"
      ],
      "execution_count": 31,
      "outputs": [
        {
          "output_type": "execute_result",
          "data": {
            "text/plain": [
              "2.1505685353"
            ]
          },
          "metadata": {
            "tags": []
          },
          "execution_count": 31
        }
      ]
    },
    {
      "cell_type": "markdown",
      "metadata": {
        "id": "l2zPewBLCiMO"
      },
      "source": [
        "## Adding Our Stocks Data to a Pandas DataFrame\n",
        "\n",
        "The next thing we need to do is add our stock's price and market capitalization to a pandas DataFrame. Think of a DataFrame like the Python version of a spreadsheet. It stores tabular data."
      ]
    },
    {
      "cell_type": "code",
      "metadata": {
        "id": "CE5ScNK-CiMO"
      },
      "source": [
        "my_columns = ['Ticker', 'Stock Price', 'Market Capitalization', 'Number of Shares to Buy']\r\n",
        "final_dataframe = pd.DataFrame( columns = my_columns, )"
      ],
      "execution_count": 38,
      "outputs": []
    },
    {
      "cell_type": "code",
      "metadata": {
        "id": "fo-iMDxRCiMO",
        "outputId": "2e452c32-66c6-424f-ead9-5afa5c57be05",
        "colab": {
          "base_uri": "https://localhost:8080/",
          "height": 77
        }
      },
      "source": [
        "final_dataframe.append(\r\n",
        "    pd.Series(\r\n",
        "        [symbol, price, market_cap/1e12, 'N/A'], \r\n",
        "        index=my_columns\r\n",
        "    ), \r\n",
        "    ignore_index=True, \r\n",
        ")"
      ],
      "execution_count": 40,
      "outputs": [
        {
          "output_type": "execute_result",
          "data": {
            "text/html": [
              "<div>\n",
              "<style scoped>\n",
              "    .dataframe tbody tr th:only-of-type {\n",
              "        vertical-align: middle;\n",
              "    }\n",
              "\n",
              "    .dataframe tbody tr th {\n",
              "        vertical-align: top;\n",
              "    }\n",
              "\n",
              "    .dataframe thead th {\n",
              "        text-align: right;\n",
              "    }\n",
              "</style>\n",
              "<table border=\"1\" class=\"dataframe\">\n",
              "  <thead>\n",
              "    <tr style=\"text-align: right;\">\n",
              "      <th></th>\n",
              "      <th>Ticker</th>\n",
              "      <th>Stock Price</th>\n",
              "      <th>Market Capitalization</th>\n",
              "      <th>Number of Shares to Buy</th>\n",
              "    </tr>\n",
              "  </thead>\n",
              "  <tbody>\n",
              "    <tr>\n",
              "      <th>0</th>\n",
              "      <td>AAPL</td>\n",
              "      <td>128.1</td>\n",
              "      <td>2.150569</td>\n",
              "      <td>N/A</td>\n",
              "    </tr>\n",
              "  </tbody>\n",
              "</table>\n",
              "</div>"
            ],
            "text/plain": [
              "  Ticker  Stock Price  Market Capitalization Number of Shares to Buy\n",
              "0   AAPL        128.1               2.150569                     N/A"
            ]
          },
          "metadata": {
            "tags": []
          },
          "execution_count": 40
        }
      ]
    },
    {
      "cell_type": "markdown",
      "metadata": {
        "id": "YPMTqTi5CiMO"
      },
      "source": [
        "## Looping Through The Tickers in Our List of Stocks\n",
        "\n",
        "Using the same logic that we outlined above, we can pull data for all S&P 500 stocks and store their data in the DataFrame using a `for` loop."
      ]
    },
    {
      "cell_type": "code",
      "metadata": {
        "id": "8DMREWV1CiMP",
        "outputId": "672092f0-8d00-4d3d-8496-ff5c34f8f490",
        "colab": {
          "base_uri": "https://localhost:8080/"
        }
      },
      "source": [
        "%%time\r\n",
        "\r\n",
        "final_dataframe = pd.DataFrame(columns=my_columns)\r\n",
        "for stock in stocks['Ticker'][:5]:\r\n",
        "  time.sleep(2)\r\n",
        "  print(stock)\r\n",
        "  api_url = f'https://sandbox.iexapis.com/stable/stock/{stock}/quote/?token={IEX_CLOUD_API_TOKEN}' #very slow to request using url\r\n",
        "  data = requests.get(api_url).json()\r\n",
        "  final_dataframe = final_dataframe.append(\r\n",
        "      pd.Series([stock, data['latestPrice'], data['marketCap'], 'N/A'],index=my_columns), \r\n",
        "      ignore_index=True\r\n",
        "  )"
      ],
      "execution_count": 48,
      "outputs": [
        {
          "output_type": "stream",
          "text": [
            "A\n",
            "AAL\n",
            "AAP\n",
            "AAPL\n",
            "ABBV\n",
            "CPU times: user 90.1 ms, sys: 4.35 ms, total: 94.4 ms\n",
            "Wall time: 10.2 s\n"
          ],
          "name": "stdout"
        }
      ]
    },
    {
      "cell_type": "code",
      "metadata": {
        "id": "L38yFzKqCiMP"
      },
      "source": [
        ""
      ],
      "execution_count": null,
      "outputs": []
    },
    {
      "cell_type": "markdown",
      "metadata": {
        "id": "QlNSf356CiMP"
      },
      "source": [
        "## Using Batch API Calls to Improve Performance\n",
        "\n",
        "Batch API calls are one of the easiest ways to improve the performance of your code.\n",
        "\n",
        "This is because HTTP requests are typically one of the slowest components of a script.\n",
        "\n",
        "Also, API providers will often give you discounted rates for using batch API calls since they are easier for the API provider to respond to.\n",
        "\n",
        "IEX Cloud limits their batch API calls to 100 tickers per request. Still, this reduces the number of API calls we'll make in this section from 500 to 5 - huge improvement! In this section, we'll split our list of stocks into groups of 100 and then make a batch API call for each group."
      ]
    },
    {
      "cell_type": "code",
      "metadata": {
        "id": "LN3wiUs1CiMP"
      },
      "source": [
        ""
      ],
      "execution_count": null,
      "outputs": []
    },
    {
      "cell_type": "code",
      "metadata": {
        "id": "9v75gwg1CiMP"
      },
      "source": [
        ""
      ],
      "execution_count": null,
      "outputs": []
    },
    {
      "cell_type": "markdown",
      "metadata": {
        "id": "SBvd48gNCiMQ"
      },
      "source": [
        "## Calculating the Number of Shares to Buy\n",
        "\n",
        "As you can see in the DataFrame above, we stil haven't calculated the number of shares of each stock to buy.\n",
        "\n",
        "We'll do that next."
      ]
    },
    {
      "cell_type": "code",
      "metadata": {
        "id": "XeKmqPO9CiMQ"
      },
      "source": [
        ""
      ],
      "execution_count": null,
      "outputs": []
    },
    {
      "cell_type": "code",
      "metadata": {
        "id": "mLzfWcN0CiMQ"
      },
      "source": [
        ""
      ],
      "execution_count": null,
      "outputs": []
    },
    {
      "cell_type": "markdown",
      "metadata": {
        "id": "HPM89qVjCiMQ"
      },
      "source": [
        "## Formatting Our Excel Output\n",
        "\n",
        "We will be using the XlsxWriter library for Python to create nicely-formatted Excel files.\n",
        "\n",
        "XlsxWriter is an excellent package and offers tons of customization. However, the tradeoff for this is that the library can seem very complicated to new users. Accordingly, this section will be fairly long because I want to do a good job of explaining how XlsxWriter works.\n",
        "\n",
        "### Initializing our XlsxWriter Object"
      ]
    },
    {
      "cell_type": "code",
      "metadata": {
        "id": "MFKBaNlqCiMQ"
      },
      "source": [
        ""
      ],
      "execution_count": null,
      "outputs": []
    },
    {
      "cell_type": "markdown",
      "metadata": {
        "id": "CwpnfMh5CiMR"
      },
      "source": [
        "### Creating the Formats We'll Need For Our `.xlsx` File\n",
        "\n",
        "Formats include colors, fonts, and also symbols like `%` and `$`. We'll need four main formats for our Excel document:\n",
        "* String format for tickers\n",
        "* \\\\$XX.XX format for stock prices\n",
        "* \\\\$XX,XXX format for market capitalization\n",
        "* Integer format for the number of shares to purchase"
      ]
    },
    {
      "cell_type": "code",
      "metadata": {
        "id": "bB8qY-unCiMR"
      },
      "source": [
        ""
      ],
      "execution_count": null,
      "outputs": []
    },
    {
      "cell_type": "markdown",
      "metadata": {
        "id": "-TMGe1HSCiMR"
      },
      "source": [
        "### Applying the Formats to the Columns of Our `.xlsx` File\n",
        "\n",
        "We can use the `set_column` method applied to the `writer.sheets['Recommended Trades']` object to apply formats to specific columns of our spreadsheets.\n",
        "\n",
        "Here's an example:\n",
        "\n",
        "```python\n",
        "writer.sheets['Recommended Trades'].set_column('B:B', #This tells the method to apply the format to column B\n",
        "                     18, #This tells the method to apply a column width of 18 pixels\n",
        "                     string_template #This applies the format 'string_template' to the column\n",
        "                    )\n",
        "```"
      ]
    },
    {
      "cell_type": "code",
      "metadata": {
        "id": "hh4vA3W5CiMR"
      },
      "source": [
        ""
      ],
      "execution_count": null,
      "outputs": []
    },
    {
      "cell_type": "markdown",
      "metadata": {
        "id": "DF2n2-ZrCiMR"
      },
      "source": [
        "This code works, but it violates the software principle of \"Don't Repeat Yourself\". \n",
        "\n",
        "Let's simplify this by putting it in 2 loops:"
      ]
    },
    {
      "cell_type": "code",
      "metadata": {
        "id": "lRvoP4I4CiMS"
      },
      "source": [
        ""
      ],
      "execution_count": null,
      "outputs": []
    },
    {
      "cell_type": "markdown",
      "metadata": {
        "id": "AEE1LguqCiMS"
      },
      "source": [
        "## Saving Our Excel Output\n",
        "\n",
        "Saving our Excel file is very easy:"
      ]
    },
    {
      "cell_type": "code",
      "metadata": {
        "id": "yYp1ylRMCiMS"
      },
      "source": [
        ""
      ],
      "execution_count": null,
      "outputs": []
    }
  ]
}