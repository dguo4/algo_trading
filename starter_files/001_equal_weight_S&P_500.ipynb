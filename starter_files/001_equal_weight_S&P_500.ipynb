{
  "nbformat": 4,
  "nbformat_minor": 0,
  "metadata": {
    "kernelspec": {
      "display_name": "Python 3",
      "language": "python",
      "name": "python3"
    },
    "language_info": {
      "codemirror_mode": {
        "name": "ipython",
        "version": 3
      },
      "file_extension": ".py",
      "mimetype": "text/x-python",
      "name": "python",
      "nbconvert_exporter": "python",
      "pygments_lexer": "ipython3",
      "version": "3.8.2"
    },
    "colab": {
      "name": "001_equal_weight_S&P_500.ipynb",
      "provenance": [],
      "toc_visible": true,
      "include_colab_link": true
    }
  },
  "cells": [
    {
      "cell_type": "markdown",
      "metadata": {
        "id": "view-in-github",
        "colab_type": "text"
      },
      "source": [
        "<a href=\"https://colab.research.google.com/github/dguo4/algo_trading/blob/master/starter_files/001_equal_weight_S%26P_500.ipynb\" target=\"_parent\"><img src=\"https://colab.research.google.com/assets/colab-badge.svg\" alt=\"Open In Colab\"/></a>"
      ]
    },
    {
      "cell_type": "markdown",
      "metadata": {
        "id": "szV9xW8_CiMF"
      },
      "source": [
        "# Equal-Weight S&P 500 Index Fund\n",
        "\n",
        "## Introduction & Library Imports\n",
        "\n",
        "The S&P 500 is the world's most popular stock market index. The largest fund that is benchmarked to this index is the SPDR® S&P 500® ETF Trust. It has more than US$250 billion of assets under management.\n",
        "\n",
        "The goal of this section of the course is to create a Python script that will accept the value of your portfolio and tell you how many shares of each S&P 500 constituent you should purchase to get an equal-weight version of the index fund.\n",
        "\n",
        "## Library Imports\n",
        "\n",
        "The first thing we need to do is import the open-source software libraries that we'll be using in this tutorial."
      ]
    },
    {
      "cell_type": "code",
      "metadata": {
        "id": "sX5OekLgCiMK"
      },
      "source": [
        "import numpy as np\r\n",
        "import pandas as pd\r\n",
        "import requests # API call \r\n",
        "import math\r\n",
        "import time"
      ],
      "execution_count": 1,
      "outputs": []
    },
    {
      "cell_type": "code",
      "metadata": {
        "id": "RwBi27aFGHNc",
        "colab": {
          "base_uri": "https://localhost:8080/"
        },
        "outputId": "133163b3-bd1c-4ac7-b676-c4576813350f"
      },
      "source": [
        "!pip install xlsxwriter\r\n",
        "\r\n",
        "import xlsxwriter"
      ],
      "execution_count": 2,
      "outputs": [
        {
          "output_type": "stream",
          "text": [
            "Collecting xlsxwriter\n",
            "\u001b[?25l  Downloading https://files.pythonhosted.org/packages/6b/41/bf1aae04932d1eaffee1fc5f8b38ca47bbbf07d765129539bc4bcce1ce0c/XlsxWriter-1.3.7-py2.py3-none-any.whl (144kB)\n",
            "\r\u001b[K     |██▎                             | 10kB 13.3MB/s eta 0:00:01\r\u001b[K     |████▌                           | 20kB 19.4MB/s eta 0:00:01\r\u001b[K     |██████▉                         | 30kB 15.8MB/s eta 0:00:01\r\u001b[K     |█████████                       | 40kB 10.8MB/s eta 0:00:01\r\u001b[K     |███████████▎                    | 51kB 8.2MB/s eta 0:00:01\r\u001b[K     |█████████████▋                  | 61kB 8.3MB/s eta 0:00:01\r\u001b[K     |███████████████▉                | 71kB 7.6MB/s eta 0:00:01\r\u001b[K     |██████████████████▏             | 81kB 8.3MB/s eta 0:00:01\r\u001b[K     |████████████████████▍           | 92kB 8.4MB/s eta 0:00:01\r\u001b[K     |██████████████████████▋         | 102kB 8.8MB/s eta 0:00:01\r\u001b[K     |█████████████████████████       | 112kB 8.8MB/s eta 0:00:01\r\u001b[K     |███████████████████████████▏    | 122kB 8.8MB/s eta 0:00:01\r\u001b[K     |█████████████████████████████▌  | 133kB 8.8MB/s eta 0:00:01\r\u001b[K     |███████████████████████████████▊| 143kB 8.8MB/s eta 0:00:01\r\u001b[K     |████████████████████████████████| 153kB 8.8MB/s \n",
            "\u001b[?25hInstalling collected packages: xlsxwriter\n",
            "Successfully installed xlsxwriter-1.3.7\n"
          ],
          "name": "stdout"
        }
      ]
    },
    {
      "cell_type": "markdown",
      "metadata": {
        "id": "UyE2cpfnCiML"
      },
      "source": [
        "## Importing Our List of Stocks\n",
        "\n",
        "The next thing we need to do is import the constituents of the S&P 500.\n",
        "\n",
        "These constituents change over time, so in an ideal world you would connect directly to the index provider (Standard & Poor's) and pull their real-time constituents on a regular basis.\n",
        "\n",
        "Paying for access to the index provider's API is outside of the scope of this course. \n",
        "\n",
        "There's a static version of the S&P 500 constituents available here. [Click this link to download them now](https://drive.google.com/file/d/1ZJSpbY69DVckVZlO9cC6KkgfSufybcHN/view?usp=sharing). Move this file into the `starter-files` folder so it can be accessed by other files in that directory.\n",
        "\n",
        "Now it's time to import these stocks to our Jupyter Notebook file."
      ]
    },
    {
      "cell_type": "code",
      "metadata": {
        "id": "WHuHwqXeCiMM"
      },
      "source": [
        "# read ticker \r\n",
        "stocks = pd.read_csv('sp_500_stocks.csv')\r\n",
        "# stocks"
      ],
      "execution_count": 4,
      "outputs": []
    },
    {
      "cell_type": "markdown",
      "metadata": {
        "id": "mR5D-SnkCiMM"
      },
      "source": [
        "## Acquiring an API Token\n",
        "\n",
        "Now it's time to import our IEX Cloud API token. This is the data provider that we will be using throughout this course.\n",
        "\n",
        "API tokens (and other sensitive information) should be stored in a `secrets.py` file that doesn't get pushed to your local Git repository. We'll be using a sandbox API token in this course, which means that the data we'll use is randomly-generated and (more importantly) has no cost associated with it.\n",
        "\n",
        "[Click here](http://nickmccullum.com/algorithmic-trading-python/secrets.py) to download your `secrets.py` file. Move the file into the same directory as this Jupyter Notebook before proceeding."
      ]
    },
    {
      "cell_type": "code",
      "metadata": {
        "id": "uom7K_EOCiMM"
      },
      "source": [
        "# the import function doesn't work on my pc\r\n",
        "# from secrets import IEX_CLOUD_API_TOKEN \r\n",
        "IEX_CLOUD_API_TOKEN = 'Tsk_c9ff8a39b60f46c8bd4e37d442d987ed'"
      ],
      "execution_count": 5,
      "outputs": []
    },
    {
      "cell_type": "markdown",
      "metadata": {
        "id": "AsLGN6AHCiMN"
      },
      "source": [
        "## Making Our First API Call\n",
        "\n",
        "Now it's time to structure our API calls to IEX cloud. \n",
        "\n",
        "We need the following information from the API:\n",
        "\n",
        "* Market capitalization for each stock\n",
        "* Price of each stock\n",
        "\n"
      ]
    },
    {
      "cell_type": "code",
      "metadata": {
        "id": "fKtl6pN0CiMN",
        "colab": {
          "base_uri": "https://localhost:8080/"
        },
        "outputId": "9d4deee1-f333-4bb8-dcb9-fbc5a1573bea"
      },
      "source": [
        "symbol = 'AAPL'\r\n",
        "api_url = f'https://sandbox.iexapis.com/stable/stock/{symbol}/quote/?token={IEX_CLOUD_API_TOKEN}' #f string\r\n",
        "data = requests.get(api_url).json()\r\n",
        "# print(data.status_code)\r\n",
        "print(data)"
      ],
      "execution_count": 6,
      "outputs": [
        {
          "output_type": "stream",
          "text": [
            "{'symbol': 'AAPL', 'companyName': 'Apple Inc', 'primaryExchange': 'A AL/AQSANLL(KSNTDEOEBCM)R TGEGS ', 'calculationPrice': 'close', 'open': 132.58, 'openTime': 1675303517613, 'openSource': 'loifacif', 'close': 136.1, 'closeTime': 1690277744360, 'closeSource': 'flciifoa', 'high': 131.76, 'highTime': 1619774550526, 'highSource': 'u 5e rmynta iddielecpe1', 'low': 132.73, 'lowTime': 1657980041560, 'lowSource': ' cmdt5nr iil1pduea eyee', 'latestPrice': 133.76, 'latestSource': 'Close', 'latestTime': 'January 7, 2021', 'latestUpdate': 1674063063813, 'latestVolume': 114921256, 'iexRealtimePrice': 131.04, 'iexRealtimeSize': 20, 'iexLastUpdated': 1664527735973, 'delayedPrice': 136.81, 'delayedPriceTime': 1639996521322, 'oddLotDelayedPrice': 131.9, 'oddLotDelayedPriceTime': 1643663848216, 'extendedPrice': 136.82, 'extendedChange': 0.77, 'extendedChangePercent': 0.00603, 'extendedPriceTime': 1625439202229, 'previousClose': 130.8, 'previousVolume': 161961268, 'change': 4.44, 'changePercent': 0.03446, 'volume': 111047021, 'iexMarketPercent': 0.013522443553912952, 'iexVolume': 1458189, 'avgTotalVolume': 115605478, 'iexBidPrice': 0, 'iexBidSize': 0, 'iexAskPrice': 0, 'iexAskSize': 0, 'iexOpen': 135.66, 'iexOpenTime': 1617104750061, 'iexClose': 137.15, 'iexCloseTime': 1685398917042, 'marketCap': 2286197384613, 'peRatio': 41.78, 'week52High': 142.09, 'week52Low': 57.97, 'ytdChange': 0.02140771755353001, 'lastTradeTime': 1632034406904, 'isUSMarketOpen': False}\n"
          ],
          "name": "stdout"
        }
      ]
    },
    {
      "cell_type": "markdown",
      "metadata": {
        "id": "i1DiQVglCiMN"
      },
      "source": [
        "## Parsing Our API Call\n",
        "\n",
        "The API call that we executed in the last code block contains all of the information required to build our equal-weight S&P 500 strategy. \n",
        "\n",
        "With that said, the data isn't in a proper format yet. We need to parse it first."
      ]
    },
    {
      "cell_type": "code",
      "metadata": {
        "id": "mrijUzotCiMN",
        "colab": {
          "base_uri": "https://localhost:8080/"
        },
        "outputId": "ea1e1caa-f6da-450f-c078-e710123cac11"
      },
      "source": [
        "price = data['latestPrice']\r\n",
        "market_cap = data['marketCap']\r\n",
        "market_cap/1e12"
      ],
      "execution_count": 7,
      "outputs": [
        {
          "output_type": "execute_result",
          "data": {
            "text/plain": [
              "2.286197384613"
            ]
          },
          "metadata": {
            "tags": []
          },
          "execution_count": 7
        }
      ]
    },
    {
      "cell_type": "markdown",
      "metadata": {
        "id": "l2zPewBLCiMO"
      },
      "source": [
        "## Adding Our Stocks Data to a Pandas DataFrame\n",
        "\n",
        "The next thing we need to do is add our stock's price and market capitalization to a pandas DataFrame. Think of a DataFrame like the Python version of a spreadsheet. It stores tabular data."
      ]
    },
    {
      "cell_type": "code",
      "metadata": {
        "id": "CE5ScNK-CiMO"
      },
      "source": [
        "my_columns = ['Ticker', 'Stock Price', 'Market Capitalization', 'Number of Shares to Buy']\r\n",
        "final_dataframe = pd.DataFrame( columns = my_columns, )"
      ],
      "execution_count": 8,
      "outputs": []
    },
    {
      "cell_type": "code",
      "metadata": {
        "id": "fo-iMDxRCiMO",
        "colab": {
          "base_uri": "https://localhost:8080/",
          "height": 77
        },
        "outputId": "ca37668f-f16c-4e36-f901-a97c4619c4ab"
      },
      "source": [
        "final_dataframe.append(\r\n",
        "    pd.Series(\r\n",
        "        [symbol, price, market_cap/1e12, 'N/A'], \r\n",
        "        index=my_columns\r\n",
        "    ), \r\n",
        "    ignore_index=True, \r\n",
        ")"
      ],
      "execution_count": 9,
      "outputs": [
        {
          "output_type": "execute_result",
          "data": {
            "text/html": [
              "<div>\n",
              "<style scoped>\n",
              "    .dataframe tbody tr th:only-of-type {\n",
              "        vertical-align: middle;\n",
              "    }\n",
              "\n",
              "    .dataframe tbody tr th {\n",
              "        vertical-align: top;\n",
              "    }\n",
              "\n",
              "    .dataframe thead th {\n",
              "        text-align: right;\n",
              "    }\n",
              "</style>\n",
              "<table border=\"1\" class=\"dataframe\">\n",
              "  <thead>\n",
              "    <tr style=\"text-align: right;\">\n",
              "      <th></th>\n",
              "      <th>Ticker</th>\n",
              "      <th>Stock Price</th>\n",
              "      <th>Market Capitalization</th>\n",
              "      <th>Number of Shares to Buy</th>\n",
              "    </tr>\n",
              "  </thead>\n",
              "  <tbody>\n",
              "    <tr>\n",
              "      <th>0</th>\n",
              "      <td>AAPL</td>\n",
              "      <td>133.76</td>\n",
              "      <td>2.286197</td>\n",
              "      <td>N/A</td>\n",
              "    </tr>\n",
              "  </tbody>\n",
              "</table>\n",
              "</div>"
            ],
            "text/plain": [
              "  Ticker  Stock Price  Market Capitalization Number of Shares to Buy\n",
              "0   AAPL       133.76               2.286197                     N/A"
            ]
          },
          "metadata": {
            "tags": []
          },
          "execution_count": 9
        }
      ]
    },
    {
      "cell_type": "markdown",
      "metadata": {
        "id": "YPMTqTi5CiMO"
      },
      "source": [
        "## Looping Through The Tickers in Our List of Stocks\n",
        "\n",
        "Using the same logic that we outlined above, we can pull data for all S&P 500 stocks and store their data in the DataFrame using a `for` loop."
      ]
    },
    {
      "cell_type": "code",
      "metadata": {
        "id": "8DMREWV1CiMP",
        "colab": {
          "base_uri": "https://localhost:8080/"
        },
        "outputId": "ee7d27bd-8314-46f7-88a7-e9146418b2b9"
      },
      "source": [
        "%%time\r\n",
        "\r\n",
        "final_dataframe = pd.DataFrame(columns=my_columns)\r\n",
        "for stock in stocks['Ticker'][:10]:\r\n",
        "  time.sleep(2)\r\n",
        "  print(stock)\r\n",
        "  api_url = f'https://sandbox.iexapis.com/stable/stock/{stock}/quote/?token={IEX_CLOUD_API_TOKEN}' #very slow to request using url\r\n",
        "  data = requests.get(api_url).json()\r\n",
        "  final_dataframe = final_dataframe.append(\r\n",
        "      pd.Series([stock, data['latestPrice'], data['marketCap']/1e9, 'N/A'],index=my_columns), \r\n",
        "      ignore_index=True\r\n",
        "  )"
      ],
      "execution_count": 13,
      "outputs": [
        {
          "output_type": "stream",
          "text": [
            "A\n",
            "AAL\n",
            "AAP\n",
            "AAPL\n",
            "ABBV\n",
            "ABC\n",
            "ABMD\n",
            "ABT\n",
            "ACN\n",
            "ADBE\n",
            "CPU times: user 182 ms, sys: 9.89 ms, total: 192 ms\n",
            "Wall time: 22.2 s\n"
          ],
          "name": "stdout"
        }
      ]
    },
    {
      "cell_type": "code",
      "metadata": {
        "id": "L38yFzKqCiMP",
        "outputId": "31608311-8275-4b2c-c6e9-f1d28c36dfb5",
        "colab": {
          "base_uri": "https://localhost:8080/",
          "height": 343
        }
      },
      "source": [
        "final_dataframe"
      ],
      "execution_count": 14,
      "outputs": [
        {
          "output_type": "execute_result",
          "data": {
            "text/html": [
              "<div>\n",
              "<style scoped>\n",
              "    .dataframe tbody tr th:only-of-type {\n",
              "        vertical-align: middle;\n",
              "    }\n",
              "\n",
              "    .dataframe tbody tr th {\n",
              "        vertical-align: top;\n",
              "    }\n",
              "\n",
              "    .dataframe thead th {\n",
              "        text-align: right;\n",
              "    }\n",
              "</style>\n",
              "<table border=\"1\" class=\"dataframe\">\n",
              "  <thead>\n",
              "    <tr style=\"text-align: right;\">\n",
              "      <th></th>\n",
              "      <th>Ticker</th>\n",
              "      <th>Stock Price</th>\n",
              "      <th>Market Capitalization</th>\n",
              "      <th>Number of Shares to Buy</th>\n",
              "    </tr>\n",
              "  </thead>\n",
              "  <tbody>\n",
              "    <tr>\n",
              "      <th>0</th>\n",
              "      <td>A</td>\n",
              "      <td>129.97</td>\n",
              "      <td>39.885459</td>\n",
              "      <td>N/A</td>\n",
              "    </tr>\n",
              "    <tr>\n",
              "      <th>1</th>\n",
              "      <td>AAL</td>\n",
              "      <td>15.79</td>\n",
              "      <td>9.753093</td>\n",
              "      <td>N/A</td>\n",
              "    </tr>\n",
              "    <tr>\n",
              "      <th>2</th>\n",
              "      <td>AAP</td>\n",
              "      <td>171.81</td>\n",
              "      <td>11.776050</td>\n",
              "      <td>N/A</td>\n",
              "    </tr>\n",
              "    <tr>\n",
              "      <th>3</th>\n",
              "      <td>AAPL</td>\n",
              "      <td>130.98</td>\n",
              "      <td>2233.116359</td>\n",
              "      <td>N/A</td>\n",
              "    </tr>\n",
              "    <tr>\n",
              "      <th>4</th>\n",
              "      <td>ABBV</td>\n",
              "      <td>108.03</td>\n",
              "      <td>193.696422</td>\n",
              "      <td>N/A</td>\n",
              "    </tr>\n",
              "    <tr>\n",
              "      <th>5</th>\n",
              "      <td>ABC</td>\n",
              "      <td>112.61</td>\n",
              "      <td>23.080467</td>\n",
              "      <td>N/A</td>\n",
              "    </tr>\n",
              "    <tr>\n",
              "      <th>6</th>\n",
              "      <td>ABMD</td>\n",
              "      <td>335.91</td>\n",
              "      <td>15.084606</td>\n",
              "      <td>N/A</td>\n",
              "    </tr>\n",
              "    <tr>\n",
              "      <th>7</th>\n",
              "      <td>ABT</td>\n",
              "      <td>114.00</td>\n",
              "      <td>201.294326</td>\n",
              "      <td>N/A</td>\n",
              "    </tr>\n",
              "    <tr>\n",
              "      <th>8</th>\n",
              "      <td>ACN</td>\n",
              "      <td>266.80</td>\n",
              "      <td>180.949409</td>\n",
              "      <td>N/A</td>\n",
              "    </tr>\n",
              "    <tr>\n",
              "      <th>9</th>\n",
              "      <td>ADBE</td>\n",
              "      <td>482.13</td>\n",
              "      <td>230.268901</td>\n",
              "      <td>N/A</td>\n",
              "    </tr>\n",
              "  </tbody>\n",
              "</table>\n",
              "</div>"
            ],
            "text/plain": [
              "  Ticker  Stock Price  Market Capitalization Number of Shares to Buy\n",
              "0      A       129.97              39.885459                     N/A\n",
              "1    AAL        15.79               9.753093                     N/A\n",
              "2    AAP       171.81              11.776050                     N/A\n",
              "3   AAPL       130.98            2233.116359                     N/A\n",
              "4   ABBV       108.03             193.696422                     N/A\n",
              "5    ABC       112.61              23.080467                     N/A\n",
              "6   ABMD       335.91              15.084606                     N/A\n",
              "7    ABT       114.00             201.294326                     N/A\n",
              "8    ACN       266.80             180.949409                     N/A\n",
              "9   ADBE       482.13             230.268901                     N/A"
            ]
          },
          "metadata": {
            "tags": []
          },
          "execution_count": 14
        }
      ]
    },
    {
      "cell_type": "markdown",
      "metadata": {
        "id": "QlNSf356CiMP"
      },
      "source": [
        "## Using Batch API Calls to Improve Performance\n",
        "\n",
        "Batch API calls are one of the easiest ways to improve the performance of your code.\n",
        "\n",
        "This is because HTTP requests are typically one of the slowest components of a script.\n",
        "\n",
        "Also, API providers will often give you discounted rates for using batch API calls since they are easier for the API provider to respond to.\n",
        "\n",
        "IEX Cloud limits their batch API calls to 100 tickers per request. Still, this reduces the number of API calls we'll make in this section from 500 to 5 - huge improvement! In this section, we'll split our list of stocks into groups of 100 and then make a batch API call for each group."
      ]
    },
    {
      "cell_type": "code",
      "metadata": {
        "id": "LN3wiUs1CiMP"
      },
      "source": [
        "def chunks(lst, n):\r\n",
        "  for i in range(0, len(lst), n):\r\n",
        "    yield lst[i:i+n]"
      ],
      "execution_count": 15,
      "outputs": []
    },
    {
      "cell_type": "code",
      "metadata": {
        "id": "9v75gwg1CiMP",
        "outputId": "ed3c8f43-3e26-4f92-8cb9-fbc900e715ec",
        "colab": {
          "base_uri": "https://localhost:8080/"
        }
      },
      "source": [
        "%%time\r\n",
        "\r\n",
        "symbol_groups = list(chunks(stocks['Ticker'],100))\r\n",
        "symbol_strings = []\r\n",
        "# print(symbol_groups)\r\n",
        "for i in range(0, len(symbol_groups)):\r\n",
        "  symbol_strings.append(','.join(symbol_groups[i]))\r\n",
        "  # print(symbol_groups[i])\r\n",
        "  # print(symbol_strings[i])\r\n",
        "final_dataframe = pd.DataFrame(columns=my_columns)\r\n",
        "# final_dataframe\r\n",
        "for symbol_string in symbol_strings:\r\n",
        "  batch_api_call_url = f'https://sandbox.iexapis.com/stable/stock/market/batch?symbols={symbol_string}&types=quote&token={IEX_CLOUD_API_TOKEN}'\r\n",
        "  # print(batch_api_call_url)\r\n",
        "  data = requests.get(batch_api_call_url).json()\r\n",
        "  # print(data.status_code)\r\n",
        "  for symbol in symbol_string.split(','):\r\n",
        "    # print(symbol)\r\n",
        "    final_dataframe = final_dataframe.append(\r\n",
        "        pd.Series([symbol, data[symbol]['quote']['latestPrice'],data[symbol]['quote']['marketCap'],'N/A'], index=my_columns),\r\n",
        "        ignore_index=True\r\n",
        "    )\r\n"
      ],
      "execution_count": 36,
      "outputs": [
        {
          "output_type": "stream",
          "text": [
            "CPU times: user 1.91 s, sys: 5.38 ms, total: 1.91 s\n",
            "Wall time: 3.72 s\n"
          ],
          "name": "stdout"
        }
      ]
    },
    {
      "cell_type": "code",
      "metadata": {
        "id": "UtzbkifJg40e",
        "outputId": "46cabb43-517f-4a03-d178-a18459d46f13",
        "colab": {
          "base_uri": "https://localhost:8080/",
          "height": 195
        }
      },
      "source": [
        "final_dataframe.head()"
      ],
      "execution_count": 37,
      "outputs": [
        {
          "output_type": "execute_result",
          "data": {
            "text/html": [
              "<div>\n",
              "<style scoped>\n",
              "    .dataframe tbody tr th:only-of-type {\n",
              "        vertical-align: middle;\n",
              "    }\n",
              "\n",
              "    .dataframe tbody tr th {\n",
              "        vertical-align: top;\n",
              "    }\n",
              "\n",
              "    .dataframe thead th {\n",
              "        text-align: right;\n",
              "    }\n",
              "</style>\n",
              "<table border=\"1\" class=\"dataframe\">\n",
              "  <thead>\n",
              "    <tr style=\"text-align: right;\">\n",
              "      <th></th>\n",
              "      <th>Ticker</th>\n",
              "      <th>Stock Price</th>\n",
              "      <th>Market Capitalization</th>\n",
              "      <th>Number of Shares to Buy</th>\n",
              "    </tr>\n",
              "  </thead>\n",
              "  <tbody>\n",
              "    <tr>\n",
              "      <th>0</th>\n",
              "      <td>A</td>\n",
              "      <td>132.40</td>\n",
              "      <td>39753343130</td>\n",
              "      <td>N/A</td>\n",
              "    </tr>\n",
              "    <tr>\n",
              "      <th>1</th>\n",
              "      <td>AAL</td>\n",
              "      <td>16.05</td>\n",
              "      <td>9585030656</td>\n",
              "      <td>N/A</td>\n",
              "    </tr>\n",
              "    <tr>\n",
              "      <th>2</th>\n",
              "      <td>AAP</td>\n",
              "      <td>171.95</td>\n",
              "      <td>11769498590</td>\n",
              "      <td>N/A</td>\n",
              "    </tr>\n",
              "    <tr>\n",
              "      <th>3</th>\n",
              "      <td>AAPL</td>\n",
              "      <td>132.31</td>\n",
              "      <td>2293597037082</td>\n",
              "      <td>N/A</td>\n",
              "    </tr>\n",
              "    <tr>\n",
              "      <th>4</th>\n",
              "      <td>ABBV</td>\n",
              "      <td>109.42</td>\n",
              "      <td>193744985349</td>\n",
              "      <td>N/A</td>\n",
              "    </tr>\n",
              "  </tbody>\n",
              "</table>\n",
              "</div>"
            ],
            "text/plain": [
              "  Ticker  Stock Price Market Capitalization Number of Shares to Buy\n",
              "0      A       132.40           39753343130                     N/A\n",
              "1    AAL        16.05            9585030656                     N/A\n",
              "2    AAP       171.95           11769498590                     N/A\n",
              "3   AAPL       132.31         2293597037082                     N/A\n",
              "4   ABBV       109.42          193744985349                     N/A"
            ]
          },
          "metadata": {
            "tags": []
          },
          "execution_count": 37
        }
      ]
    },
    {
      "cell_type": "markdown",
      "metadata": {
        "id": "SBvd48gNCiMQ"
      },
      "source": [
        "## Calculating the Number of Shares to Buy\n",
        "\n",
        "As you can see in the DataFrame above, we stil haven't calculated the number of shares of each stock to buy.\n",
        "\n",
        "We'll do that next."
      ]
    },
    {
      "cell_type": "code",
      "metadata": {
        "id": "XeKmqPO9CiMQ",
        "outputId": "dbce4e63-dc4e-4e0e-816d-4110ef5b7466",
        "colab": {
          "base_uri": "https://localhost:8080/"
        }
      },
      "source": [
        "portfolio_size = input('Enter the value of your portfolio:')\r\n",
        "\r\n",
        "try:\r\n",
        "  val = float(portfolio_size)\r\n",
        "except ValueError:\r\n",
        "  print('Portfolio need to be a number')\r\n",
        "  portfolio_size = input('Enter the value of your portfolio:')\r\n",
        "  val = float(portfolio_size) \r\n",
        "  # But it could only give two chances to user to input the correct the number. Or we assume users\r\n",
        "  # should be able to provide the right input with our hint. "
      ],
      "execution_count": 50,
      "outputs": [
        {
          "output_type": "stream",
          "text": [
            "Enter the value of your portfolio:1000000\n"
          ],
          "name": "stdout"
        }
      ]
    },
    {
      "cell_type": "code",
      "metadata": {
        "id": "mLzfWcN0CiMQ",
        "outputId": "289aacf8-b61b-4a35-bd61-bfa8129457c3",
        "colab": {
          "base_uri": "https://localhost:8080/",
          "height": 402
        }
      },
      "source": [
        "position_size = val/len(final_dataframe.index)\r\n",
        "# position_size\r\n",
        "for i in range(0, len(final_dataframe.index)):\r\n",
        "  final_dataframe.loc[i, 'Number of Shares to Buy'] = math.floor(position_size/final_dataframe.loc[i,'Stock Price'])\r\n",
        "\r\n",
        "final_dataframe"
      ],
      "execution_count": 56,
      "outputs": [
        {
          "output_type": "execute_result",
          "data": {
            "text/html": [
              "<div>\n",
              "<style scoped>\n",
              "    .dataframe tbody tr th:only-of-type {\n",
              "        vertical-align: middle;\n",
              "    }\n",
              "\n",
              "    .dataframe tbody tr th {\n",
              "        vertical-align: top;\n",
              "    }\n",
              "\n",
              "    .dataframe thead th {\n",
              "        text-align: right;\n",
              "    }\n",
              "</style>\n",
              "<table border=\"1\" class=\"dataframe\">\n",
              "  <thead>\n",
              "    <tr style=\"text-align: right;\">\n",
              "      <th></th>\n",
              "      <th>Ticker</th>\n",
              "      <th>Stock Price</th>\n",
              "      <th>Market Capitalization</th>\n",
              "      <th>Number of Shares to Buy</th>\n",
              "    </tr>\n",
              "  </thead>\n",
              "  <tbody>\n",
              "    <tr>\n",
              "      <th>0</th>\n",
              "      <td>A</td>\n",
              "      <td>132.40</td>\n",
              "      <td>39753343130</td>\n",
              "      <td>14</td>\n",
              "    </tr>\n",
              "    <tr>\n",
              "      <th>1</th>\n",
              "      <td>AAL</td>\n",
              "      <td>16.05</td>\n",
              "      <td>9585030656</td>\n",
              "      <td>123</td>\n",
              "    </tr>\n",
              "    <tr>\n",
              "      <th>2</th>\n",
              "      <td>AAP</td>\n",
              "      <td>171.95</td>\n",
              "      <td>11769498590</td>\n",
              "      <td>11</td>\n",
              "    </tr>\n",
              "    <tr>\n",
              "      <th>3</th>\n",
              "      <td>AAPL</td>\n",
              "      <td>132.31</td>\n",
              "      <td>2293597037082</td>\n",
              "      <td>14</td>\n",
              "    </tr>\n",
              "    <tr>\n",
              "      <th>4</th>\n",
              "      <td>ABBV</td>\n",
              "      <td>109.42</td>\n",
              "      <td>193744985349</td>\n",
              "      <td>18</td>\n",
              "    </tr>\n",
              "    <tr>\n",
              "      <th>...</th>\n",
              "      <td>...</td>\n",
              "      <td>...</td>\n",
              "      <td>...</td>\n",
              "      <td>...</td>\n",
              "    </tr>\n",
              "    <tr>\n",
              "      <th>500</th>\n",
              "      <td>YUM</td>\n",
              "      <td>109.70</td>\n",
              "      <td>32152870126</td>\n",
              "      <td>18</td>\n",
              "    </tr>\n",
              "    <tr>\n",
              "      <th>501</th>\n",
              "      <td>ZBH</td>\n",
              "      <td>161.10</td>\n",
              "      <td>33392724646</td>\n",
              "      <td>12</td>\n",
              "    </tr>\n",
              "    <tr>\n",
              "      <th>502</th>\n",
              "      <td>ZBRA</td>\n",
              "      <td>425.20</td>\n",
              "      <td>22094927565</td>\n",
              "      <td>4</td>\n",
              "    </tr>\n",
              "    <tr>\n",
              "      <th>503</th>\n",
              "      <td>ZION</td>\n",
              "      <td>52.24</td>\n",
              "      <td>8496996125</td>\n",
              "      <td>37</td>\n",
              "    </tr>\n",
              "    <tr>\n",
              "      <th>504</th>\n",
              "      <td>ZTS</td>\n",
              "      <td>170.00</td>\n",
              "      <td>81157672650</td>\n",
              "      <td>11</td>\n",
              "    </tr>\n",
              "  </tbody>\n",
              "</table>\n",
              "<p>505 rows × 4 columns</p>\n",
              "</div>"
            ],
            "text/plain": [
              "    Ticker  Stock Price Market Capitalization Number of Shares to Buy\n",
              "0        A       132.40           39753343130                      14\n",
              "1      AAL        16.05            9585030656                     123\n",
              "2      AAP       171.95           11769498590                      11\n",
              "3     AAPL       132.31         2293597037082                      14\n",
              "4     ABBV       109.42          193744985349                      18\n",
              "..     ...          ...                   ...                     ...\n",
              "500    YUM       109.70           32152870126                      18\n",
              "501    ZBH       161.10           33392724646                      12\n",
              "502   ZBRA       425.20           22094927565                       4\n",
              "503   ZION        52.24            8496996125                      37\n",
              "504    ZTS       170.00           81157672650                      11\n",
              "\n",
              "[505 rows x 4 columns]"
            ]
          },
          "metadata": {
            "tags": []
          },
          "execution_count": 56
        }
      ]
    },
    {
      "cell_type": "markdown",
      "metadata": {
        "id": "HPM89qVjCiMQ"
      },
      "source": [
        "## Formatting Our Excel Output\n",
        "\n",
        "We will be using the XlsxWriter library for Python to create nicely-formatted Excel files.\n",
        "\n",
        "XlsxWriter is an excellent package and offers tons of customization. However, the tradeoff for this is that the library can seem very complicated to new users. Accordingly, this section will be fairly long because I want to do a good job of explaining how XlsxWriter works.\n",
        "\n",
        "### Initializing our XlsxWriter Object"
      ]
    },
    {
      "cell_type": "code",
      "metadata": {
        "id": "MFKBaNlqCiMQ"
      },
      "source": [
        "writer = pd.ExcelWriter('recommended trade.xlsx', engine='xlsxwriter')\r\n",
        "final_dataframe.to_excel(writer, 'Recommended Trades', index=False)"
      ],
      "execution_count": 62,
      "outputs": []
    },
    {
      "cell_type": "markdown",
      "metadata": {
        "id": "CwpnfMh5CiMR"
      },
      "source": [
        "### Creating the Formats We'll Need For Our `.xlsx` File\n",
        "\n",
        "Formats include colors, fonts, and also symbols like `%` and `$`. We'll need four main formats for our Excel document:\n",
        "* String format for tickers\n",
        "* \\\\$XX.XX format for stock prices\n",
        "* \\\\$XX,XXX format for market capitalization\n",
        "* Integer format for the number of shares to purchase"
      ]
    },
    {
      "cell_type": "code",
      "metadata": {
        "id": "bB8qY-unCiMR"
      },
      "source": [
        "background_color = '#0a0a23'\r\n",
        "font_color = '#ffffff'\r\n",
        "\r\n",
        "string_format = writer.book.add_format(\r\n",
        "    {\r\n",
        "        'font_color': font_color,\r\n",
        "        'bg_color': background_color,\r\n",
        "        'border': 1\r\n",
        "    }\r\n",
        ")\r\n",
        "\r\n",
        "dollar_format = writer.book.add_format(\r\n",
        "    {\r\n",
        "        'font_color': '$0.00',\r\n",
        "        'bg_color': background_color,\r\n",
        "        'border': 1\r\n",
        "    }\r\n",
        ")\r\n",
        "\r\n",
        "integer_format = writer.book.add_format(\r\n",
        "    {\r\n",
        "        'font_color': '0',\r\n",
        "        'bg_color': background_color,\r\n",
        "        'border': 1\r\n",
        "    }\r\n",
        ")\r\n",
        "\r\n"
      ],
      "execution_count": 63,
      "outputs": []
    },
    {
      "cell_type": "markdown",
      "metadata": {
        "id": "-TMGe1HSCiMR"
      },
      "source": [
        "### Applying the Formats to the Columns of Our `.xlsx` File\n",
        "\n",
        "We can use the `set_column` method applied to the `writer.sheets['Recommended Trades']` object to apply formats to specific columns of our spreadsheets.\n",
        "\n",
        "Here's an example:\n",
        "\n",
        "```python\n",
        "writer.sheets['Recommended Trades'].set_column('B:B', #This tells the method to apply the format to column B\n",
        "                     18, #This tells the method to apply a column width of 18 pixels\n",
        "                     string_template #This applies the format 'string_template' to the column\n",
        "                    )\n",
        "```"
      ]
    },
    {
      "cell_type": "code",
      "metadata": {
        "id": "hh4vA3W5CiMR"
      },
      "source": [
        "writer.sheets['Recommended Trades'].set_column('A:A', 18, string_format)\r\n",
        "writer.save()"
      ],
      "execution_count": 65,
      "outputs": []
    },
    {
      "cell_type": "markdown",
      "metadata": {
        "id": "DF2n2-ZrCiMR"
      },
      "source": [
        "This code works, but it violates the software principle of \"Don't Repeat Yourself\". \n",
        "\n",
        "Let's simplify this by putting it in 2 loops:"
      ]
    },
    {
      "cell_type": "code",
      "metadata": {
        "id": "lRvoP4I4CiMS",
        "outputId": "1d329fcf-d317-434e-cc7d-a8e5c3773baf",
        "colab": {
          "base_uri": "https://localhost:8080/"
        }
      },
      "source": [
        "column_formats = {\r\n",
        "    'A': ['Ticker',string_format],\r\n",
        "    'B': ['Stock Price', dollar_format],\r\n",
        "    'C': ['Market Capitalization', dollar_format],\r\n",
        "    'D': ['Number of Shares to Buy', integer_format]\r\n",
        "}\r\n",
        "\r\n",
        "for column in column_formats.keys():\r\n",
        "  writer.sheets['Recommended Trades'].set_column(f'{column}:{column}', 18, column_formats[column])\r\n",
        "writer.save()"
      ],
      "execution_count": 66,
      "outputs": [
        {
          "output_type": "stream",
          "text": [
            "/usr/local/lib/python3.6/dist-packages/xlsxwriter/workbook.py:329: UserWarning: Calling close() on already closed file.\n",
            "  warn(\"Calling close() on already closed file.\")\n"
          ],
          "name": "stderr"
        }
      ]
    },
    {
      "cell_type": "markdown",
      "metadata": {
        "id": "AEE1LguqCiMS"
      },
      "source": [
        "## Saving Our Excel Output\n",
        "\n",
        "Saving our Excel file is very easy:"
      ]
    },
    {
      "cell_type": "code",
      "metadata": {
        "id": "yYp1ylRMCiMS"
      },
      "source": [
        ""
      ],
      "execution_count": null,
      "outputs": []
    }
  ]
}